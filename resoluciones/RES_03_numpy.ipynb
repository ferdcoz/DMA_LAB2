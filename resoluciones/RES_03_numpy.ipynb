{
  "cells": [
    {
      "attachments": {},
      "cell_type": "markdown",
      "metadata": {
        "colab_type": "text",
        "id": "view-in-github"
      },
      "source": [
        "<a href=\"https://colab.research.google.com/github/Argentan/DMA_LAB2/blob/master/tutoriales/03_manejo_de_datos-numpy.ipynb\" target=\"_parent\"><img src=\"https://colab.research.google.com/assets/colab-badge.svg\" alt=\"Open In Colab\"/></a>"
      ]
    },
    {
      "attachments": {},
      "cell_type": "markdown",
      "metadata": {
        "colab_type": "text",
        "id": "XqMGDUP6xLQ-"
      },
      "source": [
        "<a href=\"https://colab.research.google.com/github/Argentan/DMA_LAB2/blob/master/tutoriales/03_manejo_de_datos-numpy.ipynb\" target=\"_parent\"><img src=\"https://colab.research.google.com/assets/colab-badge.svg\" alt=\"Open In Colab\"/></a>"
      ]
    },
    {
      "attachments": {},
      "cell_type": "markdown",
      "metadata": {
        "colab_type": "text",
        "id": "OsgacXmFyHre"
      },
      "source": [
        "# Repaso de Listas"
      ]
    },
    {
      "cell_type": "code",
      "execution_count": null,
      "metadata": {
        "colab": {},
        "colab_type": "code",
        "id": "0JwB1omFyKc4"
      },
      "outputs": [],
      "source": [
        "b = [1,2,3]"
      ]
    },
    {
      "attachments": {},
      "cell_type": "markdown",
      "metadata": {
        "colab_type": "text",
        "id": "Lugr9KHwyUGZ"
      },
      "source": [
        "Aplicando Operadores Matemáticos a Listas"
      ]
    },
    {
      "cell_type": "code",
      "execution_count": null,
      "metadata": {
        "colab": {},
        "colab_type": "code",
        "id": "2pzuaAdMyMVz"
      },
      "outputs": [],
      "source": [
        "b + b"
      ]
    },
    {
      "cell_type": "code",
      "execution_count": null,
      "metadata": {
        "colab": {},
        "colab_type": "code",
        "id": "wJfuwm32yP3K"
      },
      "outputs": [],
      "source": [
        "b * 4"
      ]
    },
    {
      "attachments": {},
      "cell_type": "markdown",
      "metadata": {
        "colab_type": "text",
        "id": "BuLegKfqyXti"
      },
      "source": [
        "Solución? For Loops?"
      ]
    },
    {
      "cell_type": "code",
      "execution_count": null,
      "metadata": {
        "colab": {},
        "colab_type": "code",
        "id": "HzUrLTNkyaEI"
      },
      "outputs": [],
      "source": [
        "for elemento in b:\n",
        "    print(elemento)"
      ]
    },
    {
      "cell_type": "code",
      "execution_count": null,
      "metadata": {
        "colab": {},
        "colab_type": "code",
        "id": "6I8HjEjKyea7"
      },
      "outputs": [],
      "source": [
        "for elemento in b:\n",
        "    print(elemento + elemento)"
      ]
    },
    {
      "attachments": {},
      "cell_type": "markdown",
      "metadata": {
        "colab_type": "text",
        "id": "0JPqEG49yifH"
      },
      "source": [
        "Y si lo quiero guardar en otra variable (por ejemplo 'c = b+b')?\n",
        "\n",
        "Una forma es:\n",
        "* Definir un array vacio\n",
        "* recorrer todos los elementos en b\n",
        "* sumarlos entre si y meterlos dentro de una lista ([elemento + elemento])\n",
        "* sumar esta lista a 'c' (**c \\+= algo** es lo mismo que **c = c + algo**)"
      ]
    },
    {
      "cell_type": "code",
      "execution_count": null,
      "metadata": {
        "colab": {},
        "colab_type": "code",
        "id": "XT--J06nyj0u"
      },
      "outputs": [],
      "source": [
        "c = []\n",
        "for elemento in b:\n",
        "    c += [elemento + elemento]\n",
        "c"
      ]
    },
    {
      "cell_type": "code",
      "execution_count": null,
      "metadata": {
        "colab": {},
        "colab_type": "code",
        "id": "IAqPnmQUyoW0"
      },
      "outputs": [],
      "source": [
        "c = []\n",
        "for elemento in b:\n",
        "    c += [elemento * 4]\n",
        "c"
      ]
    },
    {
      "attachments": {},
      "cell_type": "markdown",
      "metadata": {
        "colab_type": "text",
        "id": "_3gakFJLy645"
      },
      "source": [
        "Alternativa??"
      ]
    },
    {
      "attachments": {},
      "cell_type": "markdown",
      "metadata": {
        "colab_type": "text",
        "id": "OBpD3Ve7xLRE"
      },
      "source": [
        "# Librería Numpy\n",
        "\n",
        "Es el paquete de arrays mas comunmente usado en Python. La diferencia entre un array y una lista nativa es que el array es continuo en memoria mientras que la lista esta encadenada, haciendo que el array sea mucho mas rapido de leer y, por tanto, la estructura de datos natural para el procesamiento de grandes cantidades de datos"
      ]
    },
    {
      "cell_type": "code",
      "execution_count": 2,
      "metadata": {
        "colab": {},
        "colab_type": "code",
        "id": "D99BOYgHxLRH"
      },
      "outputs": [],
      "source": [
        "import numpy as np"
      ]
    },
    {
      "cell_type": "code",
      "execution_count": null,
      "metadata": {
        "colab": {},
        "colab_type": "code",
        "id": "E7u8knbdxLRP"
      },
      "outputs": [],
      "source": [
        "arr1 = np.array([1,2,3,4])\n",
        "arr1"
      ]
    },
    {
      "cell_type": "code",
      "execution_count": null,
      "metadata": {
        "colab": {},
        "colab_type": "code",
        "id": "PoOFReZaxLRW"
      },
      "outputs": [],
      "source": [
        "type(arr1)"
      ]
    },
    {
      "cell_type": "code",
      "execution_count": null,
      "metadata": {
        "colab": {},
        "colab_type": "code",
        "id": "-0haq5JBxLRa"
      },
      "outputs": [],
      "source": [
        "arr1 + arr1"
      ]
    },
    {
      "cell_type": "code",
      "execution_count": null,
      "metadata": {
        "colab": {},
        "colab_type": "code",
        "id": "XJMIrfXuxLRi"
      },
      "outputs": [],
      "source": [
        "arr1 / arr1"
      ]
    },
    {
      "cell_type": "code",
      "execution_count": null,
      "metadata": {
        "colab": {},
        "colab_type": "code",
        "id": "RnchQO25xLRr"
      },
      "outputs": [],
      "source": [
        "arr1 + 100"
      ]
    },
    {
      "attachments": {},
      "cell_type": "markdown",
      "metadata": {
        "colab_type": "text",
        "id": "An3VYAhU_PAR"
      },
      "source": [
        "## Dimensiones\n",
        "\n",
        "Los arrays de numpy pueden ser unidimensionales (1D), bidimensionales (2D) o cuantas dimensiones quieran.\n"
      ]
    },
    {
      "cell_type": "code",
      "execution_count": null,
      "metadata": {
        "colab": {},
        "colab_type": "code",
        "id": "GLIB9jK4_PAR"
      },
      "outputs": [],
      "source": [
        "data = np.round( np.random.rand(3,5) * 100 )"
      ]
    },
    {
      "cell_type": "code",
      "execution_count": null,
      "metadata": {
        "colab": {},
        "colab_type": "code",
        "id": "zxbAMqfH_PAU"
      },
      "outputs": [],
      "source": [
        "data"
      ]
    },
    {
      "cell_type": "code",
      "execution_count": null,
      "metadata": {
        "colab": {},
        "colab_type": "code",
        "id": "FmWupwhp_PAX"
      },
      "outputs": [],
      "source": [
        "data * 2"
      ]
    },
    {
      "attachments": {},
      "cell_type": "markdown",
      "metadata": {
        "colab_type": "text",
        "id": "gM_zQL58_PAc"
      },
      "source": [
        "Tamaño de 'data'"
      ]
    },
    {
      "cell_type": "code",
      "execution_count": null,
      "metadata": {
        "colab": {},
        "colab_type": "code",
        "id": "YMs7J2pM_PAc"
      },
      "outputs": [],
      "source": [
        "data.shape"
      ]
    },
    {
      "attachments": {},
      "cell_type": "markdown",
      "metadata": {
        "colab_type": "text",
        "id": "FPOowyKpxLR0"
      },
      "source": [
        "## Indexado\n",
        "\n",
        "El indexado en los ndarray funciona igual que el indexado de listas\n",
        "\n",
        "Los elementos de una ndarray se pueden acceder mediante su indice\n",
        "\n",
        "* Todos los indices empiezan en 0\n",
        "* Se usan numeros enteros\n",
        "* El indice maximo equivale a la (cantidad de elementos - 1)\n",
        "* Se accede al elemento con *indice*\n",
        "* Si el indice es negativo, se cuenta desde el final\n",
        "* Se puede hacer \"slicing\" con rangos de indices separados por dos puntos (:)\n",
        "* Se pueden usar indices negativos que cuentan desde atrás pero empezando en -1"
      ]
    },
    {
      "cell_type": "code",
      "execution_count": null,
      "metadata": {
        "colab": {},
        "colab_type": "code",
        "id": "Rp5wPcNExLR2"
      },
      "outputs": [],
      "source": [
        "arr1[0]"
      ]
    },
    {
      "cell_type": "code",
      "execution_count": null,
      "metadata": {
        "colab": {},
        "colab_type": "code",
        "id": "ClJghAFvxLR-"
      },
      "outputs": [],
      "source": [
        "arr1[3]"
      ]
    },
    {
      "cell_type": "code",
      "execution_count": null,
      "metadata": {
        "colab": {},
        "colab_type": "code",
        "id": "GXBMPBmkxLSF"
      },
      "outputs": [],
      "source": [
        "arr1[len(arr1)]"
      ]
    },
    {
      "cell_type": "code",
      "execution_count": null,
      "metadata": {
        "colab": {},
        "colab_type": "code",
        "id": "HNv5-mFOxLSM"
      },
      "outputs": [],
      "source": [
        "arr1[len(arr1) - 1]"
      ]
    },
    {
      "cell_type": "code",
      "execution_count": null,
      "metadata": {
        "colab": {},
        "colab_type": "code",
        "id": "3aRTKTMfxLSU"
      },
      "outputs": [],
      "source": [
        "arr1[-1]"
      ]
    },
    {
      "cell_type": "code",
      "execution_count": null,
      "metadata": {
        "colab": {},
        "colab_type": "code",
        "id": "-OnL7X7qxLSc"
      },
      "outputs": [],
      "source": [
        "arr2d = np.array([[1, 2, 3],\n",
        "                  [4, 5, 6],\n",
        "                  [7, 8, 9]])"
      ]
    },
    {
      "cell_type": "code",
      "execution_count": null,
      "metadata": {
        "colab": {},
        "colab_type": "code",
        "id": "CdWsf_fPxLSp"
      },
      "outputs": [],
      "source": [
        "arr2d"
      ]
    },
    {
      "cell_type": "code",
      "execution_count": null,
      "metadata": {
        "colab": {},
        "colab_type": "code",
        "id": "d0BOY-y5xLSv"
      },
      "outputs": [],
      "source": [
        "arr2d[:1]"
      ]
    },
    {
      "cell_type": "code",
      "execution_count": null,
      "metadata": {
        "colab": {},
        "colab_type": "code",
        "id": "59bha9y-xLS2"
      },
      "outputs": [],
      "source": [
        "arr2d[:2, :]"
      ]
    },
    {
      "cell_type": "code",
      "execution_count": null,
      "metadata": {
        "colab": {},
        "colab_type": "code",
        "id": "m-EcqOEJxLS5"
      },
      "outputs": [],
      "source": [
        "arr2d[1, :2]"
      ]
    },
    {
      "cell_type": "code",
      "execution_count": null,
      "metadata": {
        "colab": {},
        "colab_type": "code",
        "id": "KbO7RdGtxLS8"
      },
      "outputs": [],
      "source": [
        "arr2d[:, 1]"
      ]
    },
    {
      "attachments": {},
      "cell_type": "markdown",
      "metadata": {
        "colab_type": "text",
        "id": "aBsjHncpxLTA"
      },
      "source": [
        "## Funciones de agregación\n",
        "\n",
        "Suelen expresarse como métodos del objeto array. En general, tienen como consecuencia disminuir las dimensiones del arreglo y son muy utilizados en matemáticas y física. <br>\n",
        "La siguiente tabla muestra los más utilizados, puede encontrar la documentación [aquí](https://docs.scipy.org/doc/numpy-1.13.0/reference/arrays.ndarray.html#calculation).\n",
        "\n",
        "| Operación | Descripción |\n",
        "|:----------|:------------|\n",
        "| `a.sum()`    | Retorna la suma del arreglo en el eje dado |\n",
        "| `a.min()`    | Retorna el valor mínimo de un eje |\n",
        "| `a.mean()`   | Retorna la media aritmética en un eje dado |\n",
        "| `a.var()`    | Retorna la varianza en un eje dado|\n",
        "| `a.std()`    | Retorna la desviación estándar en un eje dado |\n",
        "| `a.prod()`   | Retorna el producto en un eje dado |\n",
        "| `a.argmin()` | Retorna el índice donde ocurren los valores mínimos de cada eje |\n",
        "| `a.ptp()`    | Valor pico a pico en un eje |\n",
        "| `a.conj()`   | Retorna el conjugado complejo de todos los elementos |\n",
        "| `a.round()`  | Retorna el valor redondeado de cada elemento |\n",
        "| `a.trace()`  | Retorna la suma de las diagonales del arreglo |\n",
        "| `a.argmax()` | Retorna el índice donde ocurren los valores máximos de cada eje |\n",
        "| `a.cumsum()` | Retorna la suma acumulativa en un eje dado |\n",
        "| `a.cumprod()`| Retorna el producto acumulativo en un eje dado |"
      ]
    },
    {
      "cell_type": "code",
      "execution_count": null,
      "metadata": {
        "colab": {},
        "colab_type": "code",
        "id": "sIRZ_CsvxLTA"
      },
      "outputs": [],
      "source": [
        "arr1.mean()"
      ]
    },
    {
      "cell_type": "code",
      "execution_count": null,
      "metadata": {
        "colab": {},
        "colab_type": "code",
        "id": "MZrPXcATxLTE"
      },
      "outputs": [],
      "source": [
        "arr1.std()"
      ]
    },
    {
      "cell_type": "code",
      "execution_count": null,
      "metadata": {
        "colab": {},
        "colab_type": "code",
        "id": "WXIKvNdlxLTH"
      },
      "outputs": [],
      "source": [
        "arr1.shape"
      ]
    },
    {
      "cell_type": "code",
      "execution_count": null,
      "metadata": {
        "colab": {},
        "colab_type": "code",
        "id": "pT9GKcSVxLTL"
      },
      "outputs": [],
      "source": [
        "arr1.size"
      ]
    },
    {
      "cell_type": "code",
      "execution_count": null,
      "metadata": {
        "colab": {},
        "colab_type": "code",
        "id": "v9DveLnvxLTP"
      },
      "outputs": [],
      "source": [
        "arr2 = np.ones((2, 3))\n",
        "arr2"
      ]
    },
    {
      "cell_type": "code",
      "execution_count": null,
      "metadata": {
        "colab": {},
        "colab_type": "code",
        "id": "4qiq5xJQ8LW6"
      },
      "outputs": [],
      "source": [
        "arr1.argmax()"
      ]
    },
    {
      "cell_type": "code",
      "execution_count": null,
      "metadata": {
        "colab": {},
        "colab_type": "code",
        "id": "U83l3jIVxLTS"
      },
      "outputs": [],
      "source": [
        "arr2.shape"
      ]
    },
    {
      "cell_type": "code",
      "execution_count": null,
      "metadata": {
        "colab": {},
        "colab_type": "code",
        "id": "3bciJC6QxLTW"
      },
      "outputs": [],
      "source": [
        "arr2.size"
      ]
    },
    {
      "cell_type": "code",
      "execution_count": null,
      "metadata": {
        "colab": {},
        "colab_type": "code",
        "id": "6v-j-IwDxLTZ"
      },
      "outputs": [],
      "source": [
        "len(arr2)"
      ]
    },
    {
      "attachments": {},
      "cell_type": "markdown",
      "metadata": {
        "colab_type": "text",
        "id": "dtsSUUSXxLTd"
      },
      "source": [
        "## Funciones universales\n",
        "\n",
        "Son funciones optimizadas que operan sobre el array. Dificilmente vamos a necesitar hacer algo que no este ya implementado, la lista completa de funciones universales en este [enlace](https://docs.scipy.org/doc/numpy-1.13.0/reference/ufuncs.html#math-operations)"
      ]
    },
    {
      "attachments": {},
      "cell_type": "markdown",
      "metadata": {
        "colab_type": "text",
        "id": "ULGS-Qy6xLTd"
      },
      "source": [
        "### Funciones para crear ndarrays\n",
        "\n",
        "Hay muchas formas de crear arreglos en Numpy, puede explorarlas todas en este [enlace](https://docs.scipy.org/doc/numpy-1.13.0/reference/routines.array-creation.html). Las más comunes son:\n",
        "\n",
        "| Función | Descripción |\n",
        "|:--------|:------------|\n",
        "| `empty` | Arreglo vacio |\n",
        "| `zeros` | Arreglo de ceros |\n",
        "| `ones`  | Arreglo de unos |\n",
        "| `full`  | Se especifica un valor para llenar todo el arreglo con él |\n",
        "| `identity` | Unos en la diagonal y cero en el resto |\n",
        "| `array` | Constructor genérico |\n",
        "| `fromfunction` | Según una función dada que retorna un valor para cada punto de la coordenada |\n",
        "| `loadtxt` | Carga los datos de un archivo |"
      ]
    },
    {
      "cell_type": "code",
      "execution_count": null,
      "metadata": {
        "colab": {},
        "colab_type": "code",
        "id": "3oqmmTcMxLTe"
      },
      "outputs": [],
      "source": [
        "np.ones(3)"
      ]
    },
    {
      "cell_type": "code",
      "execution_count": null,
      "metadata": {
        "colab": {},
        "colab_type": "code",
        "id": "py63Pi48xLTh"
      },
      "outputs": [],
      "source": [
        "np.full([2,5], fill_value=10)"
      ]
    },
    {
      "attachments": {},
      "cell_type": "markdown",
      "metadata": {
        "colab_type": "text",
        "id": "we6fyUhF4TU8"
      },
      "source": [
        "# Ejercicios"
      ]
    },
    {
      "attachments": {},
      "cell_type": "markdown",
      "metadata": {
        "colab_type": "text",
        "id": "SYvqbJHa4U5b"
      },
      "source": [
        "\n",
        "\n",
        "1.   Crear un array de 100 números aleatorios con valores de -100 a +100. \n",
        "\n",
        "\n",
        "\n",
        "\n",
        "\n"
      ]
    },
    {
      "cell_type": "code",
      "execution_count": 6,
      "metadata": {
        "colab": {},
        "colab_type": "code",
        "id": "u5qG2KWP4pel"
      },
      "outputs": [
        {
          "data": {
            "text/plain": [
              "array([ 63,  -5, -71,  88,  26, -71,  75,  63,  66, -62, -44, -29, -58,\n",
              "       -44,  81, -19,  76, -22,   0,  26, -58,   5,  16,  23,  16, -85,\n",
              "        58, -72,  77, -72,  61, -49, -38, -16, -77,  81,   5, -77, -11,\n",
              "        69,  -5,  94, -15,  34, -18,  41,  53,  90,  -9, -93,  48, -82,\n",
              "       -49,  95, -63, -83,  41, -83, -68,  -3,  64,   9, -13,  90,  83,\n",
              "       -16, -90,   0, -91,  42,  69,  66,  -2, -24, -51, -33, -20,  40,\n",
              "       -84, -26, -24, -11,  99, -20, -63,  44, -56, -32, -83,  49,  65,\n",
              "        66, -10, -71,  90,  53,  68,   0, -71, -19])"
            ]
          },
          "execution_count": 6,
          "metadata": {},
          "output_type": "execute_result"
        }
      ],
      "source": [
        "array = np.random.randint(-100,100, size=100)\n",
        "array"
      ]
    },
    {
      "attachments": {},
      "cell_type": "markdown",
      "metadata": {
        "colab_type": "text",
        "id": "v1F35TCC4qAv"
      },
      "source": [
        "\n",
        "2.   Usando arrays de booleanos crear otros 3 arrays que contengan los positivos, los negativos y los mayores de 50 de ese array."
      ]
    },
    {
      "cell_type": "code",
      "execution_count": 9,
      "metadata": {
        "colab": {},
        "colab_type": "code",
        "id": "yc_DUCQn4q2V"
      },
      "outputs": [
        {
          "name": "stdout",
          "output_type": "stream",
          "text": [
            "[63 88 26 75 63 66 81 76 26  5 16 23 16 58 77 61 81  5 69 94 34 41 53 90\n",
            " 48 95 41 64  9 90 83 42 69 66 40 99 44 49 65 66 90 53 68]\n",
            "[ -5 -71 -71 -62 -44 -29 -58 -44 -19 -22 -58 -85 -72 -72 -49 -38 -16 -77\n",
            " -77 -11  -5 -15 -18  -9 -93 -82 -49 -63 -83 -83 -68  -3 -13 -16 -90 -91\n",
            "  -2 -24 -51 -33 -20 -84 -26 -24 -11 -20 -63 -56 -32 -83 -10 -71 -71 -19]\n",
            "[63 88 75 63 66 81 76 58 77 61 81 69 94 53 90 95 64 90 83 69 66 99 65 66\n",
            " 90 53 68]\n"
          ]
        }
      ],
      "source": [
        "array_positivo = array[array>0]\n",
        "array_negativo = array[array<0]\n",
        "array_50 = array[array>50]\n",
        "\n",
        "print(array_positivo)\n",
        "print(array_negativo)\n",
        "print(array_50)"
      ]
    },
    {
      "attachments": {},
      "cell_type": "markdown",
      "metadata": {
        "colab_type": "text",
        "id": "zg5a3cB54zgf"
      },
      "source": [
        "3.   Crear un array bidimensional 5x5 con todos los valores cero. Usando el indexado de arrays, asigna 1 a todos los elementos de la última fila y 5 a todos los elementos de la primera columna. Finalmente, asigna el valor 100 a todos los elementos del subarray central 3x3 de la matriz de 5x5."
      ]
    },
    {
      "cell_type": "code",
      "execution_count": 11,
      "metadata": {
        "colab": {},
        "colab_type": "code",
        "id": "eNxFHLgI7aAH"
      },
      "outputs": [
        {
          "name": "stdout",
          "output_type": "stream",
          "text": [
            "[[  5   0   0   0   0]\n",
            " [  5 100 100 100   0]\n",
            " [  5 100 100 100   0]\n",
            " [  5 100 100 100   0]\n",
            " [  5   1   1   1   1]]\n"
          ]
        }
      ],
      "source": [
        "mat = np.zeros((5, 5), dtype=int)\n",
        "\n",
        "mat[-1] = 1\n",
        "\n",
        "mat[:, 0] = 5\n",
        "\n",
        "mat[1:4, 1:4] = 100\n",
        "#mat[-4:-1, 1:4]\n",
        "\n",
        "print(mat)"
      ]
    },
    {
      "attachments": {},
      "cell_type": "markdown",
      "metadata": {
        "colab_type": "text",
        "id": "K3b5dKsn7jEO"
      },
      "source": [
        "4.   Crear una matriz de 10 x 3 con valores aleatorios entre cero y uno\n",
        "\n"
      ]
    },
    {
      "cell_type": "code",
      "execution_count": 20,
      "metadata": {
        "colab": {},
        "colab_type": "code",
        "id": "bXR3mAkY7xJr"
      },
      "outputs": [
        {
          "name": "stdout",
          "output_type": "stream",
          "text": [
            "[[0.52237482 0.88657888 0.56487924]\n",
            " [0.5203624  0.17535649 0.09441805]\n",
            " [0.91220077 0.72506787 0.09686775]\n",
            " [0.04351682 0.16824613 0.10731503]\n",
            " [0.31228102 0.43601552 0.88066189]\n",
            " [0.77198463 0.74380528 0.72077414]\n",
            " [0.42156751 0.88560786 0.27385282]\n",
            " [0.04528964 0.4500149  0.53605027]\n",
            " [0.09038367 0.01326413 0.74407813]\n",
            " [0.14964644 0.52219225 0.19394271]]\n"
          ]
        }
      ],
      "source": [
        "mat_zero = np.random.rand(10,3)\n",
        "print(mat_zero)"
      ]
    },
    {
      "attachments": {},
      "cell_type": "markdown",
      "metadata": {
        "colab_type": "text",
        "id": "oMjbP0N07xhf"
      },
      "source": [
        "\n",
        "5.   Buscar el valor mínimo de la matriz"
      ]
    },
    {
      "cell_type": "code",
      "execution_count": 38,
      "metadata": {
        "colab": {},
        "colab_type": "code",
        "id": "kMBMIAlr73Az"
      },
      "outputs": [
        {
          "data": {
            "text/plain": [
              "0.013264134341223532"
            ]
          },
          "execution_count": 38,
          "metadata": {},
          "output_type": "execute_result"
        }
      ],
      "source": [
        "minimo = np.min(mat_zero)\n",
        "minimo"
      ]
    },
    {
      "attachments": {},
      "cell_type": "markdown",
      "metadata": {
        "colab_type": "text",
        "id": "XAW8IQgO73WL"
      },
      "source": [
        "6.   Buscar la posición (indice) del valor mínimo de la matriz"
      ]
    },
    {
      "cell_type": "code",
      "execution_count": 58,
      "metadata": {
        "colab": {},
        "colab_type": "code",
        "id": "iaMPaBPw77QZ"
      },
      "outputs": [
        {
          "name": "stdout",
          "output_type": "stream",
          "text": [
            "La posición del valor mínimo en la matriz es: (8, 1)\n"
          ]
        }
      ],
      "source": [
        "#Version sin usar ninguna función :)\n",
        "\n",
        "minimo = 1\n",
        "\n",
        "fila_minimo = 0\n",
        "columna_minimo = 0\n",
        "\n",
        "for fila in range( len(mat_zero) ):\n",
        "    for columna in range( len(mat_zero[0]) ):\n",
        "        if mat_zero[fila][columna] < minimo:\n",
        "            minimo = mat_zero[fila][columna]\n",
        "            fila_minimo = fila\n",
        "            columna_minimo = columna\n",
        "            \n",
        "print( f\"La posición del valor mínimo en la matriz es: ({fila_minimo}, {columna_minimo})\" )\n"
      ]
    },
    {
      "cell_type": "code",
      "execution_count": 70,
      "metadata": {},
      "outputs": [
        {
          "name": "stdout",
          "output_type": "stream",
          "text": [
            "La posición del valor mínimo en la matriz es: (8, 1)\n"
          ]
        }
      ],
      "source": [
        "#Version 2, si conozco de antemano el minimo\n",
        "\n",
        "for fila in range( len(mat_zero) ):\n",
        "    for columna in range( len(mat_zero[0]) ):\n",
        "        if ( mat_zero[fila][columna] == minimo ):\n",
        "            fila_minimo = fila\n",
        "            columna_minimo = columna\n",
        "\n",
        "print( f\"La posición del valor mínimo en la matriz es: ({fila_minimo}, {columna_minimo})\" )"
      ]
    }
  ],
  "metadata": {
    "colab": {
      "include_colab_link": true,
      "name": "03_manejo_de_datos-numpy.ipynb",
      "provenance": []
    },
    "kernelspec": {
      "display_name": "Python 3",
      "name": "python3"
    },
    "language_info": {
      "codemirror_mode": {
        "name": "ipython",
        "version": 3
      },
      "file_extension": ".py",
      "mimetype": "text/x-python",
      "name": "python",
      "nbconvert_exporter": "python",
      "pygments_lexer": "ipython3",
      "version": "3.9.13"
    },
    "orig_nbformat": 2
  },
  "nbformat": 4,
  "nbformat_minor": 0
}
